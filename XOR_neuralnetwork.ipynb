{
 "cells": [
  {
   "cell_type": "code",
   "execution_count": 1,
   "metadata": {},
   "outputs": [
    {
     "data": {
      "text/plain": [
       "array([[0, 0],\n",
       "       [0, 1],\n",
       "       [1, 0],\n",
       "       [1, 1]])"
      ]
     },
     "execution_count": 1,
     "metadata": {},
     "output_type": "execute_result"
    }
   ],
   "source": [
    "import numpy as np\n",
    "import sklearn.neural_network\n",
    "xs = np.array([\n",
    "    0, 0,\n",
    "    0, 1,\n",
    "    1, 0,\n",
    "    1, 1\n",
    "]).reshape(4, 2)\n",
    "\n",
    "ys = np.array([0, 1, 1, 0]).reshape(4,)\n",
    "xs"
   ]
  },
  {
   "cell_type": "code",
   "execution_count": 3,
   "metadata": {},
   "outputs": [
    {
     "name": "stdout",
     "output_type": "stream",
     "text": [
      "score: 1.0\n",
      "predictions: [0 1 1 0]\n",
      "expected: [0 1 1 0]\n"
     ]
    }
   ],
   "source": [
    "model = sklearn.neural_network.MLPClassifier(\n",
    "    activation='relu', max_iter=10000, hidden_layer_sizes=(4,2))\n",
    "model.fit(xs, ys)\n",
    "print('score:', model.score(xs, ys))\n",
    "print('predictions:', model.predict(xs))\n",
    "print('expected:', np.array([0, 1, 1, 0]))\n"
   ]
  },
  {
   "cell_type": "code",
   "execution_count": 41,
   "metadata": {
    "scrolled": true
   },
   "outputs": [
    {
     "data": {
      "text/plain": [
       "array([[0. , 0. ],\n",
       "       [0. , 0.1],\n",
       "       [0. , 0.2],\n",
       "       [0. , 0.3],\n",
       "       [0. , 0.4],\n",
       "       [0. , 0.5],\n",
       "       [0. , 0.6],\n",
       "       [0. , 0.7],\n",
       "       [0. , 0.8],\n",
       "       [0. , 0.9],\n",
       "       [0. , 1. ],\n",
       "       [0.1, 0. ],\n",
       "       [0.1, 0.1],\n",
       "       [0.1, 0.2],\n",
       "       [0.1, 0.3],\n",
       "       [0.1, 0.4],\n",
       "       [0.1, 0.5],\n",
       "       [0.1, 0.6],\n",
       "       [0.1, 0.7],\n",
       "       [0.1, 0.8],\n",
       "       [0.1, 0.9],\n",
       "       [0.1, 1. ],\n",
       "       [0.2, 0. ],\n",
       "       [0.2, 0.1],\n",
       "       [0.2, 0.2],\n",
       "       [0.2, 0.3],\n",
       "       [0.2, 0.4],\n",
       "       [0.2, 0.5],\n",
       "       [0.2, 0.6],\n",
       "       [0.2, 0.7],\n",
       "       [0.2, 0.8],\n",
       "       [0.2, 0.9],\n",
       "       [0.2, 1. ],\n",
       "       [0.3, 0. ],\n",
       "       [0.3, 0.1],\n",
       "       [0.3, 0.2],\n",
       "       [0.3, 0.3],\n",
       "       [0.3, 0.4],\n",
       "       [0.3, 0.5],\n",
       "       [0.3, 0.6],\n",
       "       [0.3, 0.7],\n",
       "       [0.3, 0.8],\n",
       "       [0.3, 0.9],\n",
       "       [0.3, 1. ],\n",
       "       [0.4, 0. ],\n",
       "       [0.4, 0.1],\n",
       "       [0.4, 0.2],\n",
       "       [0.4, 0.3],\n",
       "       [0.4, 0.4],\n",
       "       [0.4, 0.5],\n",
       "       [0.4, 0.6],\n",
       "       [0.4, 0.7],\n",
       "       [0.4, 0.8],\n",
       "       [0.4, 0.9],\n",
       "       [0.4, 1. ],\n",
       "       [0.5, 0. ],\n",
       "       [0.5, 0.1],\n",
       "       [0.5, 0.2],\n",
       "       [0.5, 0.3],\n",
       "       [0.5, 0.4],\n",
       "       [0.5, 0.5],\n",
       "       [0.5, 0.6],\n",
       "       [0.5, 0.7],\n",
       "       [0.5, 0.8],\n",
       "       [0.5, 0.9],\n",
       "       [0.5, 1. ],\n",
       "       [0.6, 0. ],\n",
       "       [0.6, 0.1],\n",
       "       [0.6, 0.2],\n",
       "       [0.6, 0.3],\n",
       "       [0.6, 0.4],\n",
       "       [0.6, 0.5],\n",
       "       [0.6, 0.6],\n",
       "       [0.6, 0.7],\n",
       "       [0.6, 0.8],\n",
       "       [0.6, 0.9],\n",
       "       [0.6, 1. ],\n",
       "       [0.7, 0. ],\n",
       "       [0.7, 0.1],\n",
       "       [0.7, 0.2],\n",
       "       [0.7, 0.3],\n",
       "       [0.7, 0.4],\n",
       "       [0.7, 0.5],\n",
       "       [0.7, 0.6],\n",
       "       [0.7, 0.7],\n",
       "       [0.7, 0.8],\n",
       "       [0.7, 0.9],\n",
       "       [0.7, 1. ],\n",
       "       [0.8, 0. ],\n",
       "       [0.8, 0.1],\n",
       "       [0.8, 0.2],\n",
       "       [0.8, 0.3],\n",
       "       [0.8, 0.4],\n",
       "       [0.8, 0.5],\n",
       "       [0.8, 0.6],\n",
       "       [0.8, 0.7],\n",
       "       [0.8, 0.8],\n",
       "       [0.8, 0.9],\n",
       "       [0.8, 1. ],\n",
       "       [0.9, 0. ],\n",
       "       [0.9, 0.1],\n",
       "       [0.9, 0.2],\n",
       "       [0.9, 0.3],\n",
       "       [0.9, 0.4],\n",
       "       [0.9, 0.5],\n",
       "       [0.9, 0.6],\n",
       "       [0.9, 0.7],\n",
       "       [0.9, 0.8],\n",
       "       [0.9, 0.9],\n",
       "       [0.9, 1. ],\n",
       "       [1. , 0. ],\n",
       "       [1. , 0.1],\n",
       "       [1. , 0.2],\n",
       "       [1. , 0.3],\n",
       "       [1. , 0.4],\n",
       "       [1. , 0.5],\n",
       "       [1. , 0.6],\n",
       "       [1. , 0.7],\n",
       "       [1. , 0.8],\n",
       "       [1. , 0.9],\n",
       "       [1. , 1. ]])"
      ]
     },
     "execution_count": 41,
     "metadata": {},
     "output_type": "execute_result"
    }
   ],
   "source": [
    "import math, itertools\n",
    "arr = np.arange(0, 1.1, 0.1)\n",
    "xt = []\n",
    "for x1,x2 in itertools.product(arr, repeat=2):\n",
    "    xt.append([x1,x2])\n",
    " \n",
    "xt = np.asarray(xt)\n",
    "xt"
   ]
  },
  {
   "cell_type": "code",
   "execution_count": 44,
   "metadata": {},
   "outputs": [],
   "source": [
    "yt = model.predict(xt)"
   ]
  },
  {
   "cell_type": "code",
   "execution_count": 45,
   "metadata": {},
   "outputs": [
    {
     "data": {
      "text/plain": [
       "array([0, 0, 0, 0, 0, 0, 0, 0, 1, 1, 1, 0, 0, 0, 0, 0, 0, 0, 0, 1, 1, 1,\n",
       "       0, 0, 0, 0, 0, 0, 0, 1, 1, 1, 0, 0, 0, 0, 0, 0, 0, 1, 1, 0, 0, 0,\n",
       "       0, 0, 0, 0, 0, 0, 0, 0, 0, 0, 0, 0, 0, 0, 0, 0, 0, 0, 0, 0, 0, 0,\n",
       "       1, 1, 1, 1, 0, 0, 0, 0, 0, 0, 0, 1, 1, 1, 1, 0, 0, 0, 0, 0, 0, 0,\n",
       "       1, 1, 1, 0, 0, 0, 0, 0, 0, 0, 0, 1, 1, 1, 0, 0, 0, 0, 0, 0, 0, 0,\n",
       "       1, 1, 0, 0, 0, 0, 0, 0, 0, 0, 0])"
      ]
     },
     "execution_count": 45,
     "metadata": {},
     "output_type": "execute_result"
    }
   ],
   "source": [
    "yt"
   ]
  },
  {
   "cell_type": "code",
   "execution_count": 51,
   "metadata": {},
   "outputs": [
    {
     "name": "stderr",
     "output_type": "stream",
     "text": [
      "No handles with labels found to put in legend.\n"
     ]
    },
    {
     "data": {
      "image/png": "[encoded data removed]",
      "text/plain": [
       "<Figure size 432x288 with 1 Axes>"
      ]
     },
     "metadata": {
      "needs_background": "light"
     },
     "output_type": "display_data"
    }
   ],
   "source": [
    "import matplotlib.pyplot as plt\n",
    "plt.scatter(xt[:,0],xt[:,1],c=yt, cmap=plt.cm.bwr)\n",
    "plt.legend()\n",
    "plt.show()"
   ]
  },
  {
   "cell_type": "code",
   "execution_count": null,
   "metadata": {},
   "outputs": [],
   "source": []
  }
 ],
 "metadata": {
  "kernelspec": {
   "display_name": "Python 3",
   "language": "python",
   "name": "python3"
  },
  "language_info": {
   "codemirror_mode": {
    "name": "ipython",
    "version": 3
   },
   "file_extension": ".py",
   "mimetype": "text/x-python",
   "name": "python",
   "nbconvert_exporter": "python",
   "pygments_lexer": "ipython3",
   "version": "3.7.1"
  }
 },
 "nbformat": 4,
 "nbformat_minor": 2
}
